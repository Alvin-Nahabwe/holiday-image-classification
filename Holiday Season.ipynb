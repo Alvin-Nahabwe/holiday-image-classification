{
  "nbformat": 4,
  "nbformat_minor": 0,
  "metadata": {
    "colab": {
      "name": "Holiday_v3.ipynb",
      "provenance": [],
      "collapsed_sections": []
    },
    "kernelspec": {
      "name": "python3",
      "display_name": "Python 3"
    },
    "accelerator": "GPU"
  },
  "cells": [
    {
      "cell_type": "code",
      "metadata": {
        "id": "ku6M40Iwm3qy"
      },
      "source": [
        "# Import necessary libraries\r\n",
        "\r\n",
        "import pandas as pd\r\n",
        "import numpy as np\r\n",
        "import matplotlib.pyplot as plt\r\n",
        "%matplotlib inline\r\n",
        "import seaborn as sns\r\n",
        "import os\r\n",
        "sns.set()\r\n",
        "import tensorflow as tf\r\n",
        "from tensorflow.keras.preprocessing import image\r\n",
        "from tensorflow.keras.preprocessing.image import ImageDataGenerator\r\n",
        "from tensorflow.keras.applications.nasnet import NASNetLarge, preprocess_input\r\n",
        "from tensorflow.keras.callbacks import EarlyStopping\r\n",
        "from tensorflow.keras.metrics import Precision, Recall\r\n",
        "from tensorflow.keras.optimizers import SGD\r\n",
        "from tensorflow.keras import Model, layers\r\n",
        "from keras import backend as K"
      ],
      "execution_count": 1,
      "outputs": []
    },
    {
      "cell_type": "code",
      "metadata": {
        "id": "AX5gWE9eGYW6"
      },
      "source": [
        "# Define helper functions\r\n",
        "\r\n",
        "def f1(y_true, y_pred):\r\n",
        "  \"\"\"\r\n",
        "  Function that calculates and returns\r\n",
        "  f1_score using Precision and Recall\r\n",
        "  \"\"\"\r\n",
        "\r\n",
        "  def precision(y_true, y_pred):\r\n",
        "    \"\"\"\r\n",
        "    Function that calculates and returns precision\r\n",
        "    \"\"\"\r\n",
        "    p.update_state(y_true, y_pred)\r\n",
        "    return p.result()\r\n",
        "  \r\n",
        "  def recall(y_true, y_pred):\r\n",
        "    \"\"\"\r\n",
        "    Function that calculates and returns recall\r\n",
        "    \"\"\"\r\n",
        "    r.update_state(y_true, y_pred)\r\n",
        "    return r.result()\r\n",
        "  \r\n",
        "  precision = precision(y_true, y_pred)\r\n",
        "  recall = recall(y_true, y_pred)\r\n",
        "\r\n",
        "  return 100 * 2 * ((precision*recall) / (precision + recall))\r\n",
        "\r\n",
        "\r\n",
        "def custom_loss(pos_weights, neg_weights, epsilon=1e-7):\r\n",
        "  \"\"\"\r\n",
        "  Function that takes class weights and\r\n",
        "  returns a weighted loss.\r\n",
        "  \"\"\"\r\n",
        "\r\n",
        "  def weighted_loss(y_true, y_pred):\r\n",
        "    \"\"\"\r\n",
        "    Function that calculates weighted loss.\r\n",
        "    \"\"\"\r\n",
        "    y_true = tf.cast(y_true, tf.float32)\r\n",
        "    y_pred = tf.cast(y_pred, tf.float32)\r\n",
        "\r\n",
        "    loss = 0.0\r\n",
        "\r\n",
        "    for i in range(len(pos_weights)):\r\n",
        "      loss += -K.mean((pos_weights[i] * y_true[:, i] * K.log(y_pred[:, i]+epsilon)) + (neg_weights[i] * (1.0-y_true[:, i]) * K.log(1.0-y_pred[:, i]+epsilon)))\r\n",
        "    \r\n",
        "    return loss\r\n",
        "\r\n",
        "  return weighted_loss\r\n",
        "\r\n",
        "\r\n",
        "def get_weights(df):\r\n",
        "  \"\"\"\r\n",
        "  Function that calculates and\r\n",
        "  returns class weights.\r\n",
        "  \"\"\"\r\n",
        "\r\n",
        "  samples = df.shape[0]\r\n",
        "  pos_weights = np.sum(df == 0, axis = 0)/samples\r\n",
        "  neg_weights = np.sum(df == 1, axis = 0)/samples\r\n",
        "\r\n",
        "  return pos_weights, neg_weights\r\n",
        "\r\n",
        "\r\n",
        "def preprocess(img):\r\n",
        "  \"\"\"\r\n",
        "  Function that processes images for\r\n",
        "  model prediction.\r\n",
        "  \"\"\"\r\n",
        "\r\n",
        "  path = os.path.join(test_dir, img)\r\n",
        "  this = image.load_img(path=path, target_size=(331,331))\r\n",
        "  x = image.img_to_array(this)\r\n",
        "  x = np.expand_dims(x, axis=0)\r\n",
        "  x = preprocess_input(x)\r\n",
        "  \r\n",
        "  return x\r\n",
        "\r\n",
        "\r\n",
        "def decode(prediction):\r\n",
        "  \"\"\"\r\n",
        "  Function that decodes model predictions.\r\n",
        "  Returns class label with the highest probability.\r\n",
        "  \"\"\"\r\n",
        "  top_pred = np.argmax(prediction)\r\n",
        "  return labels[top_pred]"
      ],
      "execution_count": 2,
      "outputs": []
    },
    {
      "cell_type": "code",
      "metadata": {
        "colab": {
          "base_uri": "https://localhost:8080/",
          "height": 204
        },
        "id": "dlXtwlaBr7JR",
        "outputId": "a2a2eaf2-0a92-433e-f4cb-44cabffae3ae"
      },
      "source": [
        "# Import training data\r\n",
        "\r\n",
        "train = pd.read_csv('drive/MyDrive/dataset/train.csv')\r\n",
        "train.head()"
      ],
      "execution_count": 3,
      "outputs": [
        {
          "output_type": "execute_result",
          "data": {
            "text/html": [
              "<div>\n",
              "<style scoped>\n",
              "    .dataframe tbody tr th:only-of-type {\n",
              "        vertical-align: middle;\n",
              "    }\n",
              "\n",
              "    .dataframe tbody tr th {\n",
              "        vertical-align: top;\n",
              "    }\n",
              "\n",
              "    .dataframe thead th {\n",
              "        text-align: right;\n",
              "    }\n",
              "</style>\n",
              "<table border=\"1\" class=\"dataframe\">\n",
              "  <thead>\n",
              "    <tr style=\"text-align: right;\">\n",
              "      <th></th>\n",
              "      <th>Image</th>\n",
              "      <th>Class</th>\n",
              "    </tr>\n",
              "  </thead>\n",
              "  <tbody>\n",
              "    <tr>\n",
              "      <th>0</th>\n",
              "      <td>image3476.jpg</td>\n",
              "      <td>Miscellaneous</td>\n",
              "    </tr>\n",
              "    <tr>\n",
              "      <th>1</th>\n",
              "      <td>image5198.jpg</td>\n",
              "      <td>Candle</td>\n",
              "    </tr>\n",
              "    <tr>\n",
              "      <th>2</th>\n",
              "      <td>image4183.jpg</td>\n",
              "      <td>Snowman</td>\n",
              "    </tr>\n",
              "    <tr>\n",
              "      <th>3</th>\n",
              "      <td>image1806.jpg</td>\n",
              "      <td>Miscellaneous</td>\n",
              "    </tr>\n",
              "    <tr>\n",
              "      <th>4</th>\n",
              "      <td>image7831.jpg</td>\n",
              "      <td>Miscellaneous</td>\n",
              "    </tr>\n",
              "  </tbody>\n",
              "</table>\n",
              "</div>"
            ],
            "text/plain": [
              "           Image          Class\n",
              "0  image3476.jpg  Miscellaneous\n",
              "1  image5198.jpg         Candle\n",
              "2  image4183.jpg        Snowman\n",
              "3  image1806.jpg  Miscellaneous\n",
              "4  image7831.jpg  Miscellaneous"
            ]
          },
          "metadata": {
            "tags": []
          },
          "execution_count": 3
        }
      ]
    },
    {
      "cell_type": "code",
      "metadata": {
        "colab": {
          "base_uri": "https://localhost:8080/"
        },
        "id": "yJ-H_ZvKs9nd",
        "outputId": "82bbebc4-29f1-448d-9d85-755e922bed7f"
      },
      "source": [
        "# Check for missing values\r\n",
        "\r\n",
        "train.isnull().any()"
      ],
      "execution_count": 4,
      "outputs": [
        {
          "output_type": "execute_result",
          "data": {
            "text/plain": [
              "Image    False\n",
              "Class    False\n",
              "dtype: bool"
            ]
          },
          "metadata": {
            "tags": []
          },
          "execution_count": 4
        }
      ]
    },
    {
      "cell_type": "code",
      "metadata": {
        "colab": {
          "base_uri": "https://localhost:8080/"
        },
        "id": "qIp_N4N9tROO",
        "outputId": "c1bc2bbe-c014-4c87-9a60-fb1f67c8a26c"
      },
      "source": [
        "# Number of class labels\r\n",
        "\r\n",
        "labels = train.Class.unique().tolist()\r\n",
        "labels"
      ],
      "execution_count": 5,
      "outputs": [
        {
          "output_type": "execute_result",
          "data": {
            "text/plain": [
              "['Miscellaneous', 'Candle', 'Snowman', 'Airplane', 'Christmas_Tree', 'Jacket']"
            ]
          },
          "metadata": {
            "tags": []
          },
          "execution_count": 5
        }
      ]
    },
    {
      "cell_type": "code",
      "metadata": {
        "colab": {
          "base_uri": "https://localhost:8080/"
        },
        "id": "wO1vdrDVuCTC",
        "outputId": "4a7c15f1-595e-4dbb-9d54-9f8311943fcd"
      },
      "source": [
        "# Number of instances of each class\r\n",
        "\r\n",
        "class_counts = train.Class.value_counts()\r\n",
        "class_counts"
      ],
      "execution_count": 6,
      "outputs": [
        {
          "output_type": "execute_result",
          "data": {
            "text/plain": [
              "Miscellaneous     2801\n",
              "Christmas_Tree    1539\n",
              "Jacket             640\n",
              "Candle             593\n",
              "Airplane           535\n",
              "Snowman            361\n",
              "Name: Class, dtype: int64"
            ]
          },
          "metadata": {
            "tags": []
          },
          "execution_count": 6
        }
      ]
    },
    {
      "cell_type": "code",
      "metadata": {
        "colab": {
          "base_uri": "https://localhost:8080/",
          "height": 355
        },
        "id": "7Bl002dLwqfx",
        "outputId": "261a8f67-7448-4b8e-e6e5-a5221d5dfec7"
      },
      "source": [
        "# Plot class distribution\r\n",
        "\r\n",
        "sns.barplot(class_counts.values, class_counts.index, color='g')\r\n",
        "plt.title('Distribution of Classes')\r\n",
        "plt.xlabel('Class counts')\r\n",
        "plt.ylabel('Classes')\r\n",
        "plt.show()"
      ],
      "execution_count": 7,
      "outputs": [
        {
          "output_type": "stream",
          "text": [
            "/usr/local/lib/python3.6/dist-packages/seaborn/_decorators.py:43: FutureWarning: Pass the following variables as keyword args: x, y. From version 0.12, the only valid positional argument will be `data`, and passing other arguments without an explicit keyword will result in an error or misinterpretation.\n",
            "  FutureWarning\n"
          ],
          "name": "stderr"
        },
        {
          "output_type": "display_data",
          "data": {
            "image/png": "[encoded data removed]",
            "text/plain": [
              "<Figure size 432x288 with 1 Axes>"
            ]
          },
          "metadata": {
            "tags": [],
            "needs_background": "light"
          }
        }
      ]
    },
    {
      "cell_type": "code",
      "metadata": {
        "colab": {
          "base_uri": "https://localhost:8080/",
          "height": 394
        },
        "id": "BU-1qzo-aRMl",
        "outputId": "be109b2e-9f67-4b7e-82f2-75f8d4682d2f"
      },
      "source": [
        "# One-hot encoding\r\n",
        "\r\n",
        "train[labels] = 0\r\n",
        "\r\n",
        "for label in labels:\r\n",
        "  for idx in range(len(train.Class)):\r\n",
        "    if train.Class[idx] == label:\r\n",
        "      train[label][idx] = 1\r\n",
        "    else:\r\n",
        "      train[label][idx] = 0\r\n",
        "\r\n",
        "train.drop('Class', axis=1, inplace=True)\r\n",
        "train = train.sample(frac=1)                 # Shuffle the data\r\n",
        "train.head()"
      ],
      "execution_count": 8,
      "outputs": [
        {
          "output_type": "stream",
          "text": [
            "/usr/local/lib/python3.6/dist-packages/ipykernel_launcher.py:8: SettingWithCopyWarning: \n",
            "A value is trying to be set on a copy of a slice from a DataFrame\n",
            "\n",
            "See the caveats in the documentation: https://pandas.pydata.org/pandas-docs/stable/user_guide/indexing.html#returning-a-view-versus-a-copy\n",
            "  \n",
            "/usr/local/lib/python3.6/dist-packages/ipykernel_launcher.py:10: SettingWithCopyWarning: \n",
            "A value is trying to be set on a copy of a slice from a DataFrame\n",
            "\n",
            "See the caveats in the documentation: https://pandas.pydata.org/pandas-docs/stable/user_guide/indexing.html#returning-a-view-versus-a-copy\n",
            "  # Remove the CWD from sys.path while we load stuff.\n"
          ],
          "name": "stderr"
        },
        {
          "output_type": "execute_result",
          "data": {
            "text/html": [
              "<div>\n",
              "<style scoped>\n",
              "    .dataframe tbody tr th:only-of-type {\n",
              "        vertical-align: middle;\n",
              "    }\n",
              "\n",
              "    .dataframe tbody tr th {\n",
              "        vertical-align: top;\n",
              "    }\n",
              "\n",
              "    .dataframe thead th {\n",
              "        text-align: right;\n",
              "    }\n",
              "</style>\n",
              "<table border=\"1\" class=\"dataframe\">\n",
              "  <thead>\n",
              "    <tr style=\"text-align: right;\">\n",
              "      <th></th>\n",
              "      <th>Image</th>\n",
              "      <th>Miscellaneous</th>\n",
              "      <th>Candle</th>\n",
              "      <th>Snowman</th>\n",
              "      <th>Airplane</th>\n",
              "      <th>Christmas_Tree</th>\n",
              "      <th>Jacket</th>\n",
              "    </tr>\n",
              "  </thead>\n",
              "  <tbody>\n",
              "    <tr>\n",
              "      <th>2170</th>\n",
              "      <td>image3816.jpg</td>\n",
              "      <td>0</td>\n",
              "      <td>0</td>\n",
              "      <td>0</td>\n",
              "      <td>0</td>\n",
              "      <td>0</td>\n",
              "      <td>1</td>\n",
              "    </tr>\n",
              "    <tr>\n",
              "      <th>3944</th>\n",
              "      <td>image5843.jpg</td>\n",
              "      <td>0</td>\n",
              "      <td>0</td>\n",
              "      <td>0</td>\n",
              "      <td>1</td>\n",
              "      <td>0</td>\n",
              "      <td>0</td>\n",
              "    </tr>\n",
              "    <tr>\n",
              "      <th>2818</th>\n",
              "      <td>image7965.jpg</td>\n",
              "      <td>0</td>\n",
              "      <td>0</td>\n",
              "      <td>0</td>\n",
              "      <td>0</td>\n",
              "      <td>0</td>\n",
              "      <td>1</td>\n",
              "    </tr>\n",
              "    <tr>\n",
              "      <th>2559</th>\n",
              "      <td>image9127.jpg</td>\n",
              "      <td>0</td>\n",
              "      <td>0</td>\n",
              "      <td>1</td>\n",
              "      <td>0</td>\n",
              "      <td>0</td>\n",
              "      <td>0</td>\n",
              "    </tr>\n",
              "    <tr>\n",
              "      <th>2330</th>\n",
              "      <td>image5136.jpg</td>\n",
              "      <td>0</td>\n",
              "      <td>0</td>\n",
              "      <td>0</td>\n",
              "      <td>0</td>\n",
              "      <td>0</td>\n",
              "      <td>1</td>\n",
              "    </tr>\n",
              "  </tbody>\n",
              "</table>\n",
              "</div>"
            ],
            "text/plain": [
              "              Image  Miscellaneous  Candle  ...  Airplane  Christmas_Tree  Jacket\n",
              "2170  image3816.jpg              0       0  ...         0               0       1\n",
              "3944  image5843.jpg              0       0  ...         1               0       0\n",
              "2818  image7965.jpg              0       0  ...         0               0       1\n",
              "2559  image9127.jpg              0       0  ...         0               0       0\n",
              "2330  image5136.jpg              0       0  ...         0               0       1\n",
              "\n",
              "[5 rows x 7 columns]"
            ]
          },
          "metadata": {
            "tags": []
          },
          "execution_count": 8
        }
      ]
    },
    {
      "cell_type": "code",
      "metadata": {
        "id": "aOcD8pOh4EPT"
      },
      "source": [
        "# Split the training set into train and validation splits (90:10)\r\n",
        "\r\n",
        "split = int(len(train) * 0.9)\r\n",
        "train_df = train.iloc[:split]\r\n",
        "val_df = train.iloc[split:]"
      ],
      "execution_count": 9,
      "outputs": []
    },
    {
      "cell_type": "code",
      "metadata": {
        "id": "d_XqxzGl4bih"
      },
      "source": [
        "# Data generators\r\n",
        "\r\n",
        "# Image augmentation for train images\r\n",
        "train_datagen = ImageDataGenerator(rescale=1./255.,\r\n",
        "                                   rotation_range=40,\r\n",
        "                                   width_shift_range=0.2,\r\n",
        "                                   height_shift_range=0.2,\r\n",
        "                                   shear_range=0.2,\r\n",
        "                                   zoom_range=0.2,\r\n",
        "                                   horizontal_flip=True)\r\n",
        "\r\n",
        "val_datagen = ImageDataGenerator(rescale=1./255.)"
      ],
      "execution_count": 10,
      "outputs": []
    },
    {
      "cell_type": "code",
      "metadata": {
        "id": "5SfsBMCc2urw",
        "colab": {
          "base_uri": "https://localhost:8080/"
        },
        "outputId": "0a0ca230-0293-4653-a368-94f217d773e1"
      },
      "source": [
        "train_dir = 'drive/MyDrive/dataset/train'\r\n",
        "test_dir = 'drive/MyDrive/dataset/test'\r\n",
        "\r\n",
        "# Retrieve test images\r\n",
        "test_images = os.listdir(test_dir)\r\n",
        "\r\n",
        "train_generator = train_datagen.flow_from_dataframe(dataframe = train_df,\r\n",
        "                                                    directory = train_dir,\r\n",
        "                                                    x_col = 'Image',\r\n",
        "                                                    y_col = labels,\r\n",
        "                                                    target_size = (331,331),\r\n",
        "                                                    class_mode = 'raw',\r\n",
        "                                                    batch_size = 32)\r\n",
        "\r\n",
        "val_generator = val_datagen.flow_from_dataframe(dataframe = val_df,\r\n",
        "                                                directory = train_dir,\r\n",
        "                                                x_col = 'Image',\r\n",
        "                                                y_col = labels,\r\n",
        "                                                target_size = (331,331),\r\n",
        "                                                class_mode = 'raw',\r\n",
        "                                                batch_size = 32)"
      ],
      "execution_count": 11,
      "outputs": [
        {
          "output_type": "stream",
          "text": [
            "Found 5822 validated image filenames.\n",
            "Found 647 validated image filenames.\n"
          ],
          "name": "stdout"
        }
      ]
    },
    {
      "cell_type": "code",
      "metadata": {
        "id": "gzEW5xQ9902v"
      },
      "source": [
        "# Get class weights\r\n",
        "pos_weights, neg_weights = get_weights(train_generator.labels)\r\n",
        "pos_weights = pos_weights.astype(np.float32)\r\n",
        "neg_weights = neg_weights.astype(np.float32)\r\n",
        "\r\n",
        "# Instantiate precision and recall metric objects\r\n",
        "p = Precision()\r\n",
        "r = Recall()\r\n",
        "\r\n",
        "# Insantiate early stopping callback\r\n",
        "early_stopping_callback = EarlyStopping(monitor='val_loss',\r\n",
        "                                        patience=3,\r\n",
        "                                        mode='min')"
      ],
      "execution_count": 12,
      "outputs": []
    },
    {
      "cell_type": "code",
      "metadata": {
        "colab": {
          "base_uri": "https://localhost:8080/"
        },
        "id": "AbjhfvqMWrL8",
        "outputId": "dd27a18f-5dac-4a07-bdfb-5eac9e14a9bc"
      },
      "source": [
        "# Instantiate base model\r\n",
        "pre_trained_model = NASNetLarge(input_shape=(331, 331, 3),\r\n",
        "                                include_top = False,\r\n",
        "                                weights = 'imagenet')\r\n",
        "\r\n",
        "# Freeze layers\r\n",
        "for layer in pre_trained_model.layers:\r\n",
        "  layer.trainable = False\r\n",
        "\r\n",
        "# Add pooling, dropout and dense layers\r\n",
        "output = pre_trained_model.output\r\n",
        "output = layers.GlobalAveragePooling2D()(output)\r\n",
        "output = layers.Dense(1024, activation='relu')(output)\r\n",
        "output = layers.Dropout(0.2)(output)\r\n",
        "output = layers.Dense(6, activation='softmax')(output)\r\n",
        "\r\n",
        "# Create model\r\n",
        "model = Model(pre_trained_model.input, output)\r\n",
        "\r\n",
        "# Compile model with custom loss and metric\r\n",
        "model.compile(optimizer='adam',\r\n",
        "              loss = custom_loss(pos_weights, neg_weights),\r\n",
        "              metrics = [f1])\r\n",
        "\r\n",
        "# Train model\r\n",
        "model.fit(train_generator,\r\n",
        "          validation_data = val_generator,\r\n",
        "          epochs = 20,\r\n",
        "          callbacks=[early_stopping_callback])"
      ],
      "execution_count": 13,
      "outputs": [
        {
          "output_type": "stream",
          "text": [
            "Epoch 1/20\n",
            "182/182 [==============================] - 244s 1s/step - loss: 0.9565 - f1: nan - val_loss: 0.4353 - val_f1: 67.0134\n",
            "Epoch 2/20\n",
            "182/182 [==============================] - 218s 1s/step - loss: 0.5766 - f1: 68.8377 - val_loss: 0.3740 - val_f1: 71.3754\n",
            "Epoch 3/20\n",
            "182/182 [==============================] - 216s 1s/step - loss: 0.5560 - f1: 72.1585 - val_loss: 0.3724 - val_f1: 73.4411\n",
            "Epoch 4/20\n",
            "182/182 [==============================] - 215s 1s/step - loss: 0.5093 - f1: 73.9564 - val_loss: 0.3079 - val_f1: 74.7736\n",
            "Epoch 5/20\n",
            "182/182 [==============================] - 214s 1s/step - loss: 0.4742 - f1: 75.2190 - val_loss: 0.2791 - val_f1: 75.8089\n",
            "Epoch 6/20\n",
            "182/182 [==============================] - 213s 1s/step - loss: 0.4629 - f1: 76.1151 - val_loss: 0.3142 - val_f1: 76.4388\n",
            "Epoch 7/20\n",
            "182/182 [==============================] - 213s 1s/step - loss: 0.4499 - f1: 76.7137 - val_loss: 0.3260 - val_f1: 77.2035\n",
            "Epoch 8/20\n",
            "182/182 [==============================] - 213s 1s/step - loss: 0.4440 - f1: 77.3912 - val_loss: 0.2851 - val_f1: 77.7542\n"
          ],
          "name": "stdout"
        },
        {
          "output_type": "execute_result",
          "data": {
            "text/plain": [
              "<tensorflow.python.keras.callbacks.History at 0x7fab81e163c8>"
            ]
          },
          "metadata": {
            "tags": []
          },
          "execution_count": 13
        }
      ]
    },
    {
      "cell_type": "code",
      "metadata": {
        "id": "SKWfktAPZg0T",
        "colab": {
          "base_uri": "https://localhost:8080/"
        },
        "outputId": "fefd3ad0-cbd1-477f-bba8-2ff9263d393f"
      },
      "source": [
        "# Fine-tuning\r\n",
        "\r\n",
        "# Unfreeze last few layers of the model\r\n",
        "for layer in model.layers[:-2]:\r\n",
        "  layer.trainable = False\r\n",
        "for layer in model.layers[-2:]:\r\n",
        "  layer.trainable = True\r\n",
        "\r\n",
        "# Re-compile model with SDG and low learning rate\r\n",
        "model.compile(optimizer=SGD(lr=0.0001, momentum=0.9),\r\n",
        "              loss=custom_loss(pos_weights, neg_weights),\r\n",
        "              metrics = [f1])\r\n",
        "\r\n",
        "# Re-train model with new layers\r\n",
        "model.fit(train_generator,\r\n",
        "          validation_data = val_generator,\r\n",
        "          epochs = 50,\r\n",
        "          callbacks=[early_stopping_callback])"
      ],
      "execution_count": 14,
      "outputs": [
        {
          "output_type": "stream",
          "text": [
            "Epoch 1/50\n",
            "182/182 [==============================] - 231s 1s/step - loss: 0.4312 - f1: 77.9058 - val_loss: 0.3009 - val_f1: 78.3234\n",
            "Epoch 2/50\n",
            "182/182 [==============================] - 212s 1s/step - loss: 0.4283 - f1: 78.4839 - val_loss: 0.2873 - val_f1: 78.8026\n",
            "Epoch 3/50\n",
            "182/182 [==============================] - 212s 1s/step - loss: 0.3976 - f1: 78.9383 - val_loss: 0.2803 - val_f1: 79.2535\n",
            "Epoch 4/50\n",
            "182/182 [==============================] - 212s 1s/step - loss: 0.3937 - f1: 79.3859 - val_loss: 0.2779 - val_f1: 79.5950\n",
            "Epoch 5/50\n",
            "182/182 [==============================] - 212s 1s/step - loss: 0.3744 - f1: 79.7166 - val_loss: 0.2731 - val_f1: 79.9668\n",
            "Epoch 6/50\n",
            "182/182 [==============================] - 212s 1s/step - loss: 0.3919 - f1: 80.0415 - val_loss: 0.2731 - val_f1: 80.2726\n",
            "Epoch 7/50\n",
            "182/182 [==============================] - 214s 1s/step - loss: 0.3592 - f1: 80.3857 - val_loss: 0.2717 - val_f1: 80.5725\n",
            "Epoch 8/50\n",
            "182/182 [==============================] - 213s 1s/step - loss: 0.3816 - f1: 80.6520 - val_loss: 0.2697 - val_f1: 80.7896\n",
            "Epoch 9/50\n",
            "182/182 [==============================] - 212s 1s/step - loss: 0.3874 - f1: 80.8571 - val_loss: 0.2707 - val_f1: 80.9848\n",
            "Epoch 10/50\n",
            "182/182 [==============================] - 213s 1s/step - loss: 0.3802 - f1: 81.0388 - val_loss: 0.2741 - val_f1: 81.1565\n",
            "Epoch 11/50\n",
            "182/182 [==============================] - 216s 1s/step - loss: 0.3962 - f1: 81.2046 - val_loss: 0.2713 - val_f1: 81.3184\n"
          ],
          "name": "stdout"
        },
        {
          "output_type": "execute_result",
          "data": {
            "text/plain": [
              "<tensorflow.python.keras.callbacks.History at 0x7fab81975f28>"
            ]
          },
          "metadata": {
            "tags": []
          },
          "execution_count": 14
        }
      ]
    },
    {
      "cell_type": "code",
      "metadata": {
        "id": "qq5RfnOwnb9p",
        "colab": {
          "base_uri": "https://localhost:8080/",
          "height": 585
        },
        "outputId": "f17b640a-58e4-4894-8b72-110b88851f24"
      },
      "source": [
        "loss =  model.history.history['loss']\r\n",
        "f1_score = model.history.history['f1']\r\n",
        "val_loss = model.history.history['val_loss']\r\n",
        "val_f1_score = model.history.history['val_f1']\r\n",
        "\r\n",
        "epochs = range(len(loss))\r\n",
        "\r\n",
        "# Plot training and validation f1_score\r\n",
        "plt.plot(epochs, f1_score, 'b', label='Training f1 score')\r\n",
        "plt.plot(epochs, val_f1_score, 'r', label='Validation f1 score')\r\n",
        "plt.xlabel('epochs')\r\n",
        "plt.ylabel('score')\r\n",
        "plt.title('Training and Validation f1 score')\r\n",
        "plt.legend()\r\n",
        "\r\n",
        "plt.figure()\r\n",
        "\r\n",
        "# Plot training and validation loss\r\n",
        "plt.plot(epochs, loss, 'b', label='Training loss')\r\n",
        "plt.plot(epochs, val_loss, 'r', label='Validation loss')\r\n",
        "plt.xlabel('epochs')\r\n",
        "plt.ylabel('loss')\r\n",
        "plt.title('Training and Validation loss')\r\n",
        "plt.legend()\r\n",
        "\r\n",
        "plt.show()"
      ],
      "execution_count": 15,
      "outputs": [
        {
          "output_type": "display_data",
          "data": {
            "image/png": "[encoded data removed]",
            "text/plain": [
              "<Figure size 432x288 with 1 Axes>"
            ]
          },
          "metadata": {
            "tags": [],
            "needs_background": "light"
          }
        },
        {
          "output_type": "display_data",
          "data": {
            "image/png": "[encoded data removed]",
            "text/plain": [
              "<Figure size 432x288 with 1 Axes>"
            ]
          },
          "metadata": {
            "tags": [],
            "needs_background": "light"
          }
        }
      ]
    },
    {
      "cell_type": "code",
      "metadata": {
        "id": "7yjfYcaufT5M"
      },
      "source": [
        "# Make predictions on test images\r\n",
        "test = map(preprocess, test_images)\r\n",
        "class_probs = model.predict(test)\r\n",
        "class_preds = map(decode, class_probs)\r\n",
        "final_result = np.array([test_images, list(class_preds)], dtype='object').T\r\n",
        "\r\n",
        "# Create final submission csv file\r\n",
        "submission = pd.DataFrame(data = final_result, columns = ['Image', 'Class'])\r\n",
        "submission.to_csv( 'submission.csv')"
      ],
      "execution_count": 16,
      "outputs": []
    },
    {
      "cell_type": "code",
      "metadata": {
        "id": "vt4HMO7yR0nU"
      },
      "source": [
        ""
      ],
      "execution_count": 16,
      "outputs": []
    }
  ]
}